{
 "cells": [
  {
   "cell_type": "code",
   "execution_count": null,
   "id": "b245bf62-bc6c-4efc-a8be-c96392cc9ccd",
   "metadata": {},
   "outputs": [
    {
     "name": "stdout",
     "output_type": "stream",
     "text": [
      "Hi welcome to the game, This is a number guessing game.\n",
      "You got 7 chances to guess the number. Let's start the game\n"
     ]
    }
   ],
   "source": [
    "# Importing the random module to generate a random number\n",
    "import random\n",
    "\n",
    "# Displaying a welcome message for the player\n",
    "print(\"Hi welcome to the game, This is a number guessing game.\\nYou got 7 chances to guess the number. Let's start the game\")\n",
    "\n",
    "# Generating a random number between 0 and 99\n",
    "number_to_guess = random.randrange(100)\n",
    "\n",
    "# Setting the total number of chances the player gets\n",
    "chances = 7\n",
    "\n",
    "# Initializing the guess counter to keep track of attempts\n",
    "guess_counter = 0\n",
    "\n",
    "# Starting the loop for user to guess the number\n",
    "while guess_counter < chances:\n",
    "\n",
    "    # Incrementing the guess counter by 1 for each attempt\n",
    "    guess_counter += 1\n",
    "\n",
    "    # Taking input from the user and converting it into an integer\n",
    "    my_guess = int(input('Please Enter your Guess : '))\n",
    "\n",
    "    # Checking if the user guessed correctly\n",
    "    if my_guess == number_to_guess:\n",
    "        print(f'The number is {number_to_guess} and you found it right in the {guess_counter} attempt!!')\n",
    "        break  # Exiting the loop as the user has guessed correctly\n",
    "\n",
    "    # Checking if the user has used all their chances\n",
    "    elif guess_counter >= chances and my_guess != number_to_guess:\n",
    "        print(f'Oops sorry, The number is {number_to_guess} better luck next time')\n",
    "\n",
    "    # If the guess is greater than the target number\n",
    "    elif my_guess > number_to_guess:\n",
    "        print('Your guess is higher ')\n",
    "\n",
    "    # If the guess is smaller than the target number\n",
    "    elif my_guess < number_to_guess:\n",
    "        print('Your guess is lesser')\n"
   ]
  },
  {
   "cell_type": "code",
   "execution_count": null,
   "id": "c58f29e4-ce5b-40fd-b968-e4d2f67b8b68",
   "metadata": {},
   "outputs": [],
   "source": []
  }
 ],
 "metadata": {
  "kernelspec": {
   "display_name": "Python 3 (ipykernel)",
   "language": "python",
   "name": "python3"
  },
  "language_info": {
   "codemirror_mode": {
    "name": "ipython",
    "version": 3
   },
   "file_extension": ".py",
   "mimetype": "text/x-python",
   "name": "python",
   "nbconvert_exporter": "python",
   "pygments_lexer": "ipython3",
   "version": "3.12.4"
  }
 },
 "nbformat": 4,
 "nbformat_minor": 5
}
